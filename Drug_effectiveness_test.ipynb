{
 "cells": [
  {
   "cell_type": "code",
   "execution_count": null,
   "metadata": {},
   "outputs": [],
   "source": []
  },
  {
   "cell_type": "markdown",
   "metadata": {},
   "source": [
    "## **Evaluating the Efficacy of a Novel Pharmaceutical**\n",
    "---\n",
    "\n",
    "### **Problem Statement**\n",
    "\n",
    "A pharmaceutical company seeks to investigate the effectiveness of a new drug in lowering blood pressure, comparing it to a placebo.\n",
    "---\n",
    "\n",
    "### **Hypotheses**\n",
    "\n",
    "- Null Hypothesis (H₀): The new drug does not significantly impact blood pressure levels (mean blood pressure reduction = 0).\n",
    "- Alternative Hypothesis (H₁): The new drug effectively reduces blood pressure levels (mean blood pressure reduction > 0).\n",
    "---\n",
    "\n",
    "### **Methodology**\n",
    "\n",
    "1. Hypothesis Formulation: Establish the null (H₀) and alternative (H₁) hypotheses.\n",
    "    - H₀: μ = 0 (no significant reduction in blood pressure)\n",
    "    - H₁: μ > 0 (significant reduction in blood pressure)\n",
    "2. Significance Level Selection: Choose a threshold for statistical significance, typically α = 0.05.\n",
    "3. Data Collection and Analysis: Conduct a randomized controlled trial.\n",
    "    - Divide participants randomly into two groups: treatment (new drug) and control (placebo).\n",
    "    - Measure and compare blood pressure reductions in both groups.\n",
    "    - Calculate the test statistic (e.g., t-statistic) and p-value.\n",
    "4. Decision Making: Compare the p-value to the chosen significance level (α).\n",
    "    - If p-value ≤ α, reject H₀, indicating the new drug is effective.\n",
    "    - Otherwise, fail to reject H₀, suggesting no significant effect."
   ]
  },
  {
   "cell_type": "markdown",
   "metadata": {},
   "source": []
  },
  {
   "cell_type": "code",
   "execution_count": 1,
   "metadata": {},
   "outputs": [
    {
     "name": "stdout",
     "output_type": "stream",
     "text": [
      "Test Statistic: 14.06938946464388\n",
      "P-Value: 1.731815693605259e-14\n",
      "Conclusion: Reject H₀: The drug is effective in reducing blood pressure.\n"
     ]
    }
   ],
   "source": [
    "\n",
    "# Import necessary libraries\n",
    "import numpy as np\n",
    "from scipy.stats import ttest_1samp\n",
    "\n",
    "# Step 1: Simulate clinical trial data\n",
    "np.random.seed(42)  # For reproducibility\n",
    "\n",
    "# Simulate drug group data with mean reduction of 5 mmHg\n",
    "drug_group = np.random.normal(loc=5, scale=2, size=30)\n",
    "\n",
    "# Simulate placebo group data with mean reduction of 0 mmHg\n",
    "placebo_group = np.random.normal(loc=0, scale=2, size=30)\n",
    "\n",
    "# Step 2: Perform a one-sample t-test\n",
    "# Null Hypothesis: Mean reduction = 0\n",
    "test_stat, p_value = ttest_1samp(drug_group, popmean=0)\n",
    "\n",
    "# Step 3: Interpret results\n",
    "alpha = 0.05  # Significance level\n",
    "\n",
    "# Determine conclusion based on p-value\n",
    "if p_value <= alpha:\n",
    "    conclusion = \"Reject H₀: The drug is effective in reducing blood pressure.\"\n",
    "else:\n",
    "    conclusion = \"Fail to reject H₀: No significant evidence that the drug is effective.\"\n",
    "\n",
    "# Output results\n",
    "print(\"Test Statistic:\", test_stat)\n",
    "print(\"P-Value:\", p_value)\n",
    "print(\"Conclusion:\", conclusion)\n"
   ]
  }
 ],
 "metadata": {
  "kernelspec": {
   "display_name": "base",
   "language": "python",
   "name": "python3"
  },
  "language_info": {
   "codemirror_mode": {
    "name": "ipython",
    "version": 3
   },
   "file_extension": ".py",
   "mimetype": "text/x-python",
   "name": "python",
   "nbconvert_exporter": "python",
   "pygments_lexer": "ipython3",
   "version": "3.12.4"
  }
 },
 "nbformat": 4,
 "nbformat_minor": 2
}
