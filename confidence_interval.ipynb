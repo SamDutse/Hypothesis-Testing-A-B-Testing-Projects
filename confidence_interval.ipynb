{
 "cells": [
  {
   "cell_type": "markdown",
   "metadata": {},
   "source": [
    "### **Understanding the Problem**\n",
    "\n",
    "Two candidates, Candidate A and Candidate B, are contesting for a political office. A survey was conducted to determine the proportion of people likely to vote for each candidate. Candidate A's campaign team wants to understand their confidence in winning the election by calculating a **confidence interval** for the proportion of people supporting Candidate A.\n",
    "\n",
    "---\n",
    "\n",
    "### **Plan**\n",
    "\n",
    "1. **Data Collection**:\n",
    "   - Obtain survey results (sample size \\( n \\)) and the proportion of voters supporting Candidate A (\\( p \\)).\n",
    "\n",
    "2. **Formulate the Confidence Interval**:\n",
    "   - Use the formula for the confidence interval of a population proportion:\n",
    "     \\[\n",
    "     \\text{Confidence Interval} = p \\pm Z \\cdot \\sqrt{\\frac{p(1-p)}{n}}\n",
    "     \\]\n",
    "   - \\( Z \\): The Z-score for the desired confidence level (e.g., 1.96 for 95%).\n",
    "\n",
    "3. **Steps to Calculate**:\n",
    "   1. Compute the sample proportion \\( p \\) (e.g., percentage of people supporting Candidate A from the survey).\n",
    "   2. Determine the standard error using \\( SE = \\sqrt{\\frac{p(1-p)}{n}} \\).\n",
    "   3. Calculate the margin of error: \\( \\text{Margin of Error} = Z \\cdot SE \\).\n",
    "   4. Compute the confidence interval bounds:\n",
    "      \\[\n",
    "      [p - \\text{Margin of Error}, p + \\text{Margin of Error}]\n",
    "      \\]\n",
    "\n",
    "4. **Decision**:\n",
    "   - Use the confidence interval to determine the range of support Candidate A likely has in the population.\n",
    "\n",
    "---\n",
    "\n",
    "### **Python Code Solution**\n"
   ]
  },
  {
   "cell_type": "markdown",
   "metadata": {},
   "source": []
  }
 ],
 "metadata": {
  "language_info": {
   "name": "python"
  }
 },
 "nbformat": 4,
 "nbformat_minor": 2
}
